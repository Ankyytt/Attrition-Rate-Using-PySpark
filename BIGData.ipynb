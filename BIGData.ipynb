{
  "nbformat": 4,
  "nbformat_minor": 0,
  "metadata": {
    "colab": {
      "provenance": []
    },
    "kernelspec": {
      "name": "python3",
      "display_name": "Python 3"
    },
    "language_info": {
      "name": "python"
    }
  },
  "cells": [
    {
      "cell_type": "code",
      "execution_count": null,
      "metadata": {
        "id": "Mx_b0-GI8HWE"
      },
      "outputs": [],
      "source": [
        "# Clean install: Java + Spark 3.4.1 (compatible & stable)\n",
        "!apt-get install openjdk-11-jdk-headless -qq > /dev/null\n",
        "!wget -q https://archive.apache.org/dist/spark/spark-3.4.1/spark-3.4.1-bin-hadoop3.tgz\n",
        "!tar -xzf spark-3.4.1-bin-hadoop3.tgz\n",
        "!pip install -q findspark pyspark\n",
        "\n",
        "import os\n",
        "os.environ[\"JAVA_HOME\"] = \"/usr/lib/jvm/java-11-openjdk-amd64\"\n",
        "os.environ[\"SPARK_HOME\"] = \"/content/spark-3.4.1-bin-hadoop3\"\n",
        "\n",
        "import findspark\n",
        "findspark.init()\n",
        "\n"
      ]
    },
    {
      "cell_type": "code",
      "source": [
        "from pyspark.sql import SparkSession\n",
        "\n",
        "spark = SparkSession.builder \\\n",
        "    .appName(\"Employee ML Analysis\") \\\n",
        "    .getOrCreate()\n",
        "\n",
        "print(\"✅ Spark session started!\")\n"
      ],
      "metadata": {
        "colab": {
          "base_uri": "https://localhost:8080/"
        },
        "id": "bmEV-Oxm9BB4",
        "outputId": "4259630e-4c97-43fd-b384-0e170899de64"
      },
      "execution_count": null,
      "outputs": [
        {
          "output_type": "stream",
          "name": "stdout",
          "text": [
            "✅ Spark session started!\n"
          ]
        }
      ]
    },
    {
      "cell_type": "code",
      "source": [
        "from google.colab import files\n",
        "uploaded = files.upload()\n"
      ],
      "metadata": {
        "colab": {
          "base_uri": "https://localhost:8080/",
          "height": 73
        },
        "id": "xzNbcDcH9B7z",
        "outputId": "6b1d7d9b-9e65-44e4-cea5-442948d85d95"
      },
      "execution_count": null,
      "outputs": [
        {
          "output_type": "display_data",
          "data": {
            "text/plain": [
              "<IPython.core.display.HTML object>"
            ],
            "text/html": [
              "\n",
              "     <input type=\"file\" id=\"files-15ec7e0f-b96b-457e-bea4-300ac1af8d2f\" name=\"files[]\" multiple disabled\n",
              "        style=\"border:none\" />\n",
              "     <output id=\"result-15ec7e0f-b96b-457e-bea4-300ac1af8d2f\">\n",
              "      Upload widget is only available when the cell has been executed in the\n",
              "      current browser session. Please rerun this cell to enable.\n",
              "      </output>\n",
              "      <script>// Copyright 2017 Google LLC\n",
              "//\n",
              "// Licensed under the Apache License, Version 2.0 (the \"License\");\n",
              "// you may not use this file except in compliance with the License.\n",
              "// You may obtain a copy of the License at\n",
              "//\n",
              "//      http://www.apache.org/licenses/LICENSE-2.0\n",
              "//\n",
              "// Unless required by applicable law or agreed to in writing, software\n",
              "// distributed under the License is distributed on an \"AS IS\" BASIS,\n",
              "// WITHOUT WARRANTIES OR CONDITIONS OF ANY KIND, either express or implied.\n",
              "// See the License for the specific language governing permissions and\n",
              "// limitations under the License.\n",
              "\n",
              "/**\n",
              " * @fileoverview Helpers for google.colab Python module.\n",
              " */\n",
              "(function(scope) {\n",
              "function span(text, styleAttributes = {}) {\n",
              "  const element = document.createElement('span');\n",
              "  element.textContent = text;\n",
              "  for (const key of Object.keys(styleAttributes)) {\n",
              "    element.style[key] = styleAttributes[key];\n",
              "  }\n",
              "  return element;\n",
              "}\n",
              "\n",
              "// Max number of bytes which will be uploaded at a time.\n",
              "const MAX_PAYLOAD_SIZE = 100 * 1024;\n",
              "\n",
              "function _uploadFiles(inputId, outputId) {\n",
              "  const steps = uploadFilesStep(inputId, outputId);\n",
              "  const outputElement = document.getElementById(outputId);\n",
              "  // Cache steps on the outputElement to make it available for the next call\n",
              "  // to uploadFilesContinue from Python.\n",
              "  outputElement.steps = steps;\n",
              "\n",
              "  return _uploadFilesContinue(outputId);\n",
              "}\n",
              "\n",
              "// This is roughly an async generator (not supported in the browser yet),\n",
              "// where there are multiple asynchronous steps and the Python side is going\n",
              "// to poll for completion of each step.\n",
              "// This uses a Promise to block the python side on completion of each step,\n",
              "// then passes the result of the previous step as the input to the next step.\n",
              "function _uploadFilesContinue(outputId) {\n",
              "  const outputElement = document.getElementById(outputId);\n",
              "  const steps = outputElement.steps;\n",
              "\n",
              "  const next = steps.next(outputElement.lastPromiseValue);\n",
              "  return Promise.resolve(next.value.promise).then((value) => {\n",
              "    // Cache the last promise value to make it available to the next\n",
              "    // step of the generator.\n",
              "    outputElement.lastPromiseValue = value;\n",
              "    return next.value.response;\n",
              "  });\n",
              "}\n",
              "\n",
              "/**\n",
              " * Generator function which is called between each async step of the upload\n",
              " * process.\n",
              " * @param {string} inputId Element ID of the input file picker element.\n",
              " * @param {string} outputId Element ID of the output display.\n",
              " * @return {!Iterable<!Object>} Iterable of next steps.\n",
              " */\n",
              "function* uploadFilesStep(inputId, outputId) {\n",
              "  const inputElement = document.getElementById(inputId);\n",
              "  inputElement.disabled = false;\n",
              "\n",
              "  const outputElement = document.getElementById(outputId);\n",
              "  outputElement.innerHTML = '';\n",
              "\n",
              "  const pickedPromise = new Promise((resolve) => {\n",
              "    inputElement.addEventListener('change', (e) => {\n",
              "      resolve(e.target.files);\n",
              "    });\n",
              "  });\n",
              "\n",
              "  const cancel = document.createElement('button');\n",
              "  inputElement.parentElement.appendChild(cancel);\n",
              "  cancel.textContent = 'Cancel upload';\n",
              "  const cancelPromise = new Promise((resolve) => {\n",
              "    cancel.onclick = () => {\n",
              "      resolve(null);\n",
              "    };\n",
              "  });\n",
              "\n",
              "  // Wait for the user to pick the files.\n",
              "  const files = yield {\n",
              "    promise: Promise.race([pickedPromise, cancelPromise]),\n",
              "    response: {\n",
              "      action: 'starting',\n",
              "    }\n",
              "  };\n",
              "\n",
              "  cancel.remove();\n",
              "\n",
              "  // Disable the input element since further picks are not allowed.\n",
              "  inputElement.disabled = true;\n",
              "\n",
              "  if (!files) {\n",
              "    return {\n",
              "      response: {\n",
              "        action: 'complete',\n",
              "      }\n",
              "    };\n",
              "  }\n",
              "\n",
              "  for (const file of files) {\n",
              "    const li = document.createElement('li');\n",
              "    li.append(span(file.name, {fontWeight: 'bold'}));\n",
              "    li.append(span(\n",
              "        `(${file.type || 'n/a'}) - ${file.size} bytes, ` +\n",
              "        `last modified: ${\n",
              "            file.lastModifiedDate ? file.lastModifiedDate.toLocaleDateString() :\n",
              "                                    'n/a'} - `));\n",
              "    const percent = span('0% done');\n",
              "    li.appendChild(percent);\n",
              "\n",
              "    outputElement.appendChild(li);\n",
              "\n",
              "    const fileDataPromise = new Promise((resolve) => {\n",
              "      const reader = new FileReader();\n",
              "      reader.onload = (e) => {\n",
              "        resolve(e.target.result);\n",
              "      };\n",
              "      reader.readAsArrayBuffer(file);\n",
              "    });\n",
              "    // Wait for the data to be ready.\n",
              "    let fileData = yield {\n",
              "      promise: fileDataPromise,\n",
              "      response: {\n",
              "        action: 'continue',\n",
              "      }\n",
              "    };\n",
              "\n",
              "    // Use a chunked sending to avoid message size limits. See b/62115660.\n",
              "    let position = 0;\n",
              "    do {\n",
              "      const length = Math.min(fileData.byteLength - position, MAX_PAYLOAD_SIZE);\n",
              "      const chunk = new Uint8Array(fileData, position, length);\n",
              "      position += length;\n",
              "\n",
              "      const base64 = btoa(String.fromCharCode.apply(null, chunk));\n",
              "      yield {\n",
              "        response: {\n",
              "          action: 'append',\n",
              "          file: file.name,\n",
              "          data: base64,\n",
              "        },\n",
              "      };\n",
              "\n",
              "      let percentDone = fileData.byteLength === 0 ?\n",
              "          100 :\n",
              "          Math.round((position / fileData.byteLength) * 100);\n",
              "      percent.textContent = `${percentDone}% done`;\n",
              "\n",
              "    } while (position < fileData.byteLength);\n",
              "  }\n",
              "\n",
              "  // All done.\n",
              "  yield {\n",
              "    response: {\n",
              "      action: 'complete',\n",
              "    }\n",
              "  };\n",
              "}\n",
              "\n",
              "scope.google = scope.google || {};\n",
              "scope.google.colab = scope.google.colab || {};\n",
              "scope.google.colab._files = {\n",
              "  _uploadFiles,\n",
              "  _uploadFilesContinue,\n",
              "};\n",
              "})(self);\n",
              "</script> "
            ]
          },
          "metadata": {}
        },
        {
          "output_type": "stream",
          "name": "stdout",
          "text": [
            "Saving employees.csv to employees.csv\n"
          ]
        }
      ]
    },
    {
      "cell_type": "code",
      "source": [
        "df = spark.read.csv(\"employees.csv\", header=True, inferSchema=True)\n"
      ],
      "metadata": {
        "id": "53f-fF1l9Kfc"
      },
      "execution_count": null,
      "outputs": []
    },
    {
      "cell_type": "code",
      "source": [
        "# For visualization, convert to Pandas\n",
        "import matplotlib.pyplot as plt\n",
        "import seaborn as sns\n",
        "\n",
        "pdf = df.toPandas()\n",
        "\n",
        "# Example: Countplot of Department\n",
        "plt.figure(figsize=(8, 4))\n",
        "sns.countplot(data=pdf, x='Department')\n",
        "plt.title('Employee Count by Department')\n",
        "plt.xticks(rotation=45)\n",
        "plt.tight_layout()\n",
        "plt.show()\n"
      ],
      "metadata": {
        "colab": {
          "base_uri": "https://localhost:8080/",
          "height": 407
        },
        "id": "Pq0MkMHN92Xp",
        "outputId": "1a1e741a-b66f-4bcd-c1c6-de96c87d2b82"
      },
      "execution_count": null,
      "outputs": [
        {
          "output_type": "display_data",
          "data": {
            "text/plain": [
              "<Figure size 800x400 with 1 Axes>"
            ],
            "image/png": "[encoded data removed]"
          },
          "metadata": {}
        }
      ]
    },
    {
      "cell_type": "code",
      "source": [
        "from pyspark.sql.functions import when, col\n",
        "\n",
        "# Let's say people with Salary < 50000 are labeled as \"likely to leave\"\n",
        "df = df.withColumn(\"Attrition\", when(col(\"Salary\") < 50000, \"Yes\").otherwise(\"No\"))\n"
      ],
      "metadata": {
        "id": "tWFe6US_-B9A"
      },
      "execution_count": null,
      "outputs": []
    },
    {
      "cell_type": "code",
      "source": [
        "from pyspark.ml.feature import StringIndexer, VectorAssembler\n",
        "from pyspark.ml import Pipeline\n",
        "\n",
        "# Categorical columns\n",
        "cat_cols = [col for col, dtype in df.dtypes if dtype == 'string']\n",
        "\n",
        "# Index them\n",
        "indexers = [StringIndexer(inputCol=col, outputCol=col+\"_index\") for col in cat_cols]\n",
        "\n",
        "# Define label and features\n",
        "label_col = \"Attrition_index\"\n",
        "feature_cols = [col+\"_index\" for col in cat_cols if col != \"Attrition\"]\n",
        "\n",
        "assembler = VectorAssembler(inputCols=feature_cols, outputCol=\"features\")\n",
        "\n",
        "# Build the pipeline\n",
        "pipeline = Pipeline(stages=indexers + [assembler])\n",
        "model_data = pipeline.fit(df).transform(df).select(label_col, \"features\")\n",
        "\n",
        "model_data.show(5)\n"
      ],
      "metadata": {
        "colab": {
          "base_uri": "https://localhost:8080/"
        },
        "id": "0cDQsoWi-CpD",
        "outputId": "2b1ddb09-956a-49d3-b716-df03413d87db"
      },
      "execution_count": null,
      "outputs": [
        {
          "output_type": "stream",
          "name": "stdout",
          "text": [
            "+---------------+----------+\n",
            "|Attrition_index|  features|\n",
            "+---------------+----------+\n",
            "|            0.0|[11.0,2.0]|\n",
            "|            0.0|[12.0,0.0]|\n",
            "|            0.0|[19.0,3.0]|\n",
            "|            0.0| [3.0,2.0]|\n",
            "|            0.0|[33.0,4.0]|\n",
            "+---------------+----------+\n",
            "only showing top 5 rows\n",
            "\n"
          ]
        }
      ]
    },
    {
      "cell_type": "code",
      "source": [
        "from pyspark.sql.functions import when, col\n",
        "\n",
        "df = df.withColumn(\"Attrition\", when(col(\"Salary\") < 50000, \"Yes\").otherwise(\"No\"))\n"
      ],
      "metadata": {
        "id": "SqRtZLFW-iYq"
      },
      "execution_count": null,
      "outputs": []
    },
    {
      "cell_type": "code",
      "source": [
        "from pyspark.ml.feature import StringIndexer, VectorAssembler\n",
        "from pyspark.ml import Pipeline\n",
        "\n",
        "# Index only 'Department' and 'Attrition'\n",
        "indexers = [\n",
        "    StringIndexer(inputCol=\"Department\", outputCol=\"Department_index\"),\n",
        "    StringIndexer(inputCol=\"Attrition\", outputCol=\"Attrition_index\")\n",
        "]\n",
        "\n",
        "# Features: Age, Salary, Department_index\n",
        "assembler = VectorAssembler(\n",
        "    inputCols=[\"Age\", \"Salary\", \"Department_index\"],\n",
        "    outputCol=\"features\"\n",
        ")\n",
        "\n",
        "pipeline = Pipeline(stages=indexers + [assembler])\n",
        "model_data = pipeline.fit(df).transform(df).select(\"Attrition_index\", \"features\")\n",
        "model_data.show(5)\n"
      ],
      "metadata": {
        "colab": {
          "base_uri": "https://localhost:8080/"
        },
        "id": "kj-jTkDP-yWu",
        "outputId": "356dc7cb-5860-4464-f3a6-cbb2a9002b5e"
      },
      "execution_count": null,
      "outputs": [
        {
          "output_type": "stream",
          "name": "stdout",
          "text": [
            "+---------------+------------------+\n",
            "|Attrition_index|          features|\n",
            "+---------------+------------------+\n",
            "|            0.0| [29.0,2600.0,2.0]|\n",
            "|            0.0| [34.0,2600.0,0.0]|\n",
            "|            0.0| [36.0,4400.0,3.0]|\n",
            "|            0.0|[32.0,13000.0,2.0]|\n",
            "|            0.0| [39.0,6000.0,4.0]|\n",
            "+---------------+------------------+\n",
            "only showing top 5 rows\n",
            "\n"
          ]
        }
      ]
    },
    {
      "cell_type": "code",
      "source": [
        "from pyspark.ml.classification import LogisticRegression, DecisionTreeClassifier, RandomForestClassifier\n",
        "from pyspark.ml.evaluation import MulticlassClassificationEvaluator\n",
        "\n",
        "train_data, test_data = model_data.randomSplit([0.7, 0.3], seed=42)\n",
        "\n",
        "# Models\n",
        "lr = LogisticRegression(labelCol=\"Attrition_index\", featuresCol=\"features\")\n",
        "dt = DecisionTreeClassifier(labelCol=\"Attrition_index\", featuresCol=\"features\", maxBins=64)\n",
        "rf = RandomForestClassifier(labelCol=\"Attrition_index\", featuresCol=\"features\", numTrees=50, maxBins=64)\n",
        "\n",
        "models = {\"LogisticRegression\": lr, \"DecisionTree\": dt, \"RandomForest\": rf}\n",
        "\n",
        "# Evaluator\n",
        "acc_eval = MulticlassClassificationEvaluator(labelCol=\"Attrition_index\", predictionCol=\"prediction\", metricName=\"accuracy\")\n",
        "f1_eval = MulticlassClassificationEvaluator(labelCol=\"Attrition_index\", predictionCol=\"prediction\", metricName=\"f1\")\n",
        "\n",
        "# Training loop\n",
        "for name, model in models.items():\n",
        "    fitted = model.fit(train_data)\n",
        "    preds = fitted.transform(test_data)\n",
        "\n",
        "    acc = acc_eval.evaluate(preds)\n",
        "    f1 = f1_eval.evaluate(preds)\n",
        "\n",
        "    print(f\"🔍 {name}: Accuracy = {acc:.4f}, F1 Score = {f1:.4f}\")\n"
      ],
      "metadata": {
        "colab": {
          "base_uri": "https://localhost:8080/"
        },
        "id": "WIJ1dY77-0U_",
        "outputId": "3b7812db-8933-4d66-8202-461cb57f9912"
      },
      "execution_count": null,
      "outputs": [
        {
          "output_type": "stream",
          "name": "stdout",
          "text": [
            "🔍 LogisticRegression: Accuracy = 1.0000, F1 Score = 1.0000\n",
            "🔍 DecisionTree: Accuracy = 1.0000, F1 Score = 1.0000\n",
            "🔍 RandomForest: Accuracy = 1.0000, F1 Score = 1.0000\n"
          ]
        }
      ]
    },
    {
      "cell_type": "code",
      "source": [
        "rf_model = rf.fit(train_data)\n",
        "importances = rf_model.featureImportances\n",
        "\n",
        "feature_names = [\"Age\", \"Salary\", \"Department_index\"]\n",
        "print(\"🌟 Feature Importances:\")\n",
        "for name, score in zip(feature_names, importances):\n",
        "    print(f\"{name}: {score:.4f}\")\n"
      ],
      "metadata": {
        "colab": {
          "base_uri": "https://localhost:8080/"
        },
        "id": "gVrxF7zd-34z",
        "outputId": "18cd3113-b4ad-45e2-d698-951d80577257"
      },
      "execution_count": null,
      "outputs": [
        {
          "output_type": "stream",
          "name": "stdout",
          "text": [
            "🌟 Feature Importances:\n",
            "Age: 0.0000\n",
            "Salary: 0.0000\n",
            "Department_index: 0.0000\n"
          ]
        }
      ]
    },
    {
      "cell_type": "code",
      "source": [
        "model_data.groupBy(\"Attrition_index\").count().show()\n"
      ],
      "metadata": {
        "colab": {
          "base_uri": "https://localhost:8080/"
        },
        "id": "Um7YPbOB_Pyw",
        "outputId": "c4e56925-9ed9-4cfa-8de7-fffb5714b0af"
      },
      "execution_count": null,
      "outputs": [
        {
          "output_type": "stream",
          "name": "stdout",
          "text": [
            "+---------------+-----+\n",
            "|Attrition_index|count|\n",
            "+---------------+-----+\n",
            "|            0.0|   50|\n",
            "+---------------+-----+\n",
            "\n"
          ]
        }
      ]
    },
    {
      "cell_type": "code",
      "source": [
        "from pyspark.sql.functions import rand\n",
        "\n",
        "# Make approx half of entries 'Yes' randomly (for testing)\n",
        "df = df.withColumn(\"Attrition\", when(rand() > 0.5, \"Yes\").otherwise(\"No\"))\n"
      ],
      "metadata": {
        "id": "HE2oDuep_QhF"
      },
      "execution_count": null,
      "outputs": []
    },
    {
      "cell_type": "code",
      "source": [
        "from pyspark.sql.functions import when, rand\n",
        "\n",
        "# Randomly assign Attrition as Yes/No for demo purposes\n",
        "df = df.withColumn(\"Attrition\", when(rand() > 0.5, \"Yes\").otherwise(\"No\"))\n"
      ],
      "metadata": {
        "id": "o59_jRMr_cwE"
      },
      "execution_count": null,
      "outputs": []
    },
    {
      "cell_type": "code",
      "source": [
        "from pyspark.ml.feature import StringIndexer, VectorAssembler\n",
        "from pyspark.ml import Pipeline\n",
        "\n",
        "# Index only meaningful categorical columns\n",
        "indexers = [\n",
        "    StringIndexer(inputCol=\"Department\", outputCol=\"Department_index\"),\n",
        "    StringIndexer(inputCol=\"Attrition\", outputCol=\"Attrition_index\")\n",
        "]\n",
        "\n",
        "# Assemble numerical + indexed categorical features\n",
        "assembler = VectorAssembler(\n",
        "    inputCols=[\"Age\", \"Salary\", \"Department_index\"],\n",
        "    outputCol=\"features\"\n",
        ")\n",
        "\n",
        "pipeline = Pipeline(stages=indexers + [assembler])\n",
        "\n",
        "# Transform and select only the final required columns\n",
        "model_data = pipeline.fit(df).transform(df).select(\"Attrition_index\", \"features\")\n",
        "model_data.show(5)\n"
      ],
      "metadata": {
        "colab": {
          "base_uri": "https://localhost:8080/"
        },
        "id": "7TKokrEi_dW5",
        "outputId": "54ffcd1b-6b17-4df5-d36c-01d63e4d909b"
      },
      "execution_count": null,
      "outputs": [
        {
          "output_type": "stream",
          "name": "stdout",
          "text": [
            "+---------------+------------------+\n",
            "|Attrition_index|          features|\n",
            "+---------------+------------------+\n",
            "|            0.0| [29.0,2600.0,2.0]|\n",
            "|            0.0| [34.0,2600.0,0.0]|\n",
            "|            0.0| [36.0,4400.0,3.0]|\n",
            "|            0.0|[32.0,13000.0,2.0]|\n",
            "|            1.0| [39.0,6000.0,4.0]|\n",
            "+---------------+------------------+\n",
            "only showing top 5 rows\n",
            "\n"
          ]
        }
      ]
    },
    {
      "cell_type": "code",
      "source": [
        "train_data, test_data = model_data.randomSplit([0.7, 0.3], seed=42)\n"
      ],
      "metadata": {
        "id": "zGzgs1jW_l-O"
      },
      "execution_count": null,
      "outputs": []
    },
    {
      "cell_type": "code",
      "source": [
        "from pyspark.ml.classification import LogisticRegression, DecisionTreeClassifier, RandomForestClassifier\n",
        "from pyspark.ml.evaluation import MulticlassClassificationEvaluator\n",
        "\n",
        "# Define models\n",
        "lr = LogisticRegression(labelCol=\"Attrition_index\", featuresCol=\"features\")\n",
        "dt = DecisionTreeClassifier(labelCol=\"Attrition_index\", featuresCol=\"features\", maxBins=64)\n",
        "rf = RandomForestClassifier(labelCol=\"Attrition_index\", featuresCol=\"features\", numTrees=50, maxBins=64)\n",
        "\n",
        "models = {\"LogisticRegression\": lr, \"DecisionTree\": dt, \"RandomForest\": rf}\n",
        "\n",
        "# Evaluators\n",
        "acc_eval = MulticlassClassificationEvaluator(labelCol=\"Attrition_index\", predictionCol=\"prediction\", metricName=\"accuracy\")\n",
        "f1_eval = MulticlassClassificationEvaluator(labelCol=\"Attrition_index\", predictionCol=\"prediction\", metricName=\"f1\")\n",
        "\n",
        "# Loop through and evaluate\n",
        "for name, model in models.items():\n",
        "    fitted = model.fit(train_data)\n",
        "    preds = fitted.transform(test_data)\n",
        "\n",
        "    acc = acc_eval.evaluate(preds)\n",
        "    f1 = f1_eval.evaluate(preds)\n",
        "\n",
        "    print(f\"🔍 {name}: Accuracy = {acc:.4f}, F1 Score = {f1:.4f}\")\n"
      ],
      "metadata": {
        "colab": {
          "base_uri": "https://localhost:8080/"
        },
        "id": "DvgBL7Nr_mqq",
        "outputId": "22734f61-874c-451e-c572-ac4e74ec9f38"
      },
      "execution_count": null,
      "outputs": [
        {
          "output_type": "stream",
          "name": "stdout",
          "text": [
            "🔍 LogisticRegression: Accuracy = 0.6667, F1 Score = 0.6667\n",
            "🔍 DecisionTree: Accuracy = 0.7500, F1 Score = 0.7465\n",
            "🔍 RandomForest: Accuracy = 0.6250, F1 Score = 0.6230\n"
          ]
        }
      ]
    },
    {
      "cell_type": "code",
      "source": [
        "rf_model = rf.fit(train_data)\n",
        "importances = rf_model.featureImportances\n",
        "\n",
        "feature_names = [\"Age\", \"Salary\", \"Department_index\"]\n",
        "print(\"🌟 Feature Importances:\")\n",
        "for name, score in zip(feature_names, importances):\n",
        "    print(f\"{name}: {score:.4f}\")\n"
      ],
      "metadata": {
        "colab": {
          "base_uri": "https://localhost:8080/"
        },
        "id": "EleSDb79_vOu",
        "outputId": "46bfd2b6-f5a8-4b48-eb2a-59223e78336a"
      },
      "execution_count": null,
      "outputs": [
        {
          "output_type": "stream",
          "name": "stdout",
          "text": [
            "🌟 Feature Importances:\n",
            "Age: 0.3654\n",
            "Salary: 0.2855\n",
            "Department_index: 0.3491\n"
          ]
        }
      ]
    }
  ]
}